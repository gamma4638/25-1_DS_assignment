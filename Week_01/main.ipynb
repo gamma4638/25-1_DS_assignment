{
 "cells": [
  {
   "cell_type": "code",
   "execution_count": 1,
   "metadata": {},
   "outputs": [],
   "source": [
    "import torch\n",
    "import torch.nn as nn\n",
    "import torch.optim as optim"
   ]
  },
  {
   "cell_type": "code",
   "execution_count": 2,
   "metadata": {},
   "outputs": [
    {
     "name": "stdout",
     "output_type": "stream",
     "text": [
      "d:\\github_practice\\github_desktop\\25-1-DS-Week-1-Assignment\n"
     ]
    }
   ],
   "source": [
    "#로컬 모듈 import\n",
    "import sys\n",
    "import os\n",
    "print(os.getcwd())\n",
    "# 모듈 경로를 sys.path에 추가\n",
    "module_path = os.path.abspath(os.path.join('..', 'my_transformer'))\n",
    "if module_path not in sys.path:\n",
    "    sys.path.append(module_path)\n",
    "from my_transformer.my_transformer import Transformer"
   ]
  },
  {
   "cell_type": "code",
   "execution_count": 3,
   "metadata": {},
   "outputs": [
    {
     "name": "stderr",
     "output_type": "stream",
     "text": [
      "\u001b[34m\u001b[1mwandb\u001b[0m: Using wandb-core as the SDK backend.  Please refer to https://wandb.me/wandb-core for more information.\n",
      "\u001b[34m\u001b[1mwandb\u001b[0m: \u001b[33mWARNING\u001b[0m If you're specifying your api key in code, ensure this code is not shared publicly.\n",
      "\u001b[34m\u001b[1mwandb\u001b[0m: \u001b[33mWARNING\u001b[0m Consider setting the WANDB_API_KEY environment variable, or running `wandb login` from the command line.\n",
      "\u001b[34m\u001b[1mwandb\u001b[0m: Appending key for api.wandb.ai to your netrc file: C:\\Users\\user\\_netrc\n",
      "\u001b[34m\u001b[1mwandb\u001b[0m: Currently logged in as: \u001b[33mstars3621\u001b[0m (\u001b[33mstars3621-yonsei-university\u001b[0m) to \u001b[32mhttps://api.wandb.ai\u001b[0m. Use \u001b[1m`wandb login --relogin`\u001b[0m to force relogin\n"
     ]
    },
    {
     "data": {
      "text/html": [
       "Tracking run with wandb version 0.19.8"
      ],
      "text/plain": [
       "<IPython.core.display.HTML object>"
      ]
     },
     "metadata": {},
     "output_type": "display_data"
    },
    {
     "data": {
      "text/html": [
       "Run data is saved locally in <code>d:\\github_practice\\github_desktop\\25-1-DS-Week-1-Assignment\\wandb\\run-20250317_233245-bp7vfrkg</code>"
      ],
      "text/plain": [
       "<IPython.core.display.HTML object>"
      ]
     },
     "metadata": {},
     "output_type": "display_data"
    },
    {
     "data": {
      "text/html": [
       "Syncing run <strong><a href='https://wandb.ai/stars3621-yonsei-university/transformer/runs/bp7vfrkg' target=\"_blank\">stellar-armadillo-30</a></strong> to <a href='https://wandb.ai/stars3621-yonsei-university/transformer' target=\"_blank\">Weights & Biases</a> (<a href='https://wandb.me/developer-guide' target=\"_blank\">docs</a>)<br>"
      ],
      "text/plain": [
       "<IPython.core.display.HTML object>"
      ]
     },
     "metadata": {},
     "output_type": "display_data"
    },
    {
     "data": {
      "text/html": [
       " View project at <a href='https://wandb.ai/stars3621-yonsei-university/transformer' target=\"_blank\">https://wandb.ai/stars3621-yonsei-university/transformer</a>"
      ],
      "text/plain": [
       "<IPython.core.display.HTML object>"
      ]
     },
     "metadata": {},
     "output_type": "display_data"
    },
    {
     "data": {
      "text/html": [
       " View run at <a href='https://wandb.ai/stars3621-yonsei-university/transformer/runs/bp7vfrkg' target=\"_blank\">https://wandb.ai/stars3621-yonsei-university/transformer/runs/bp7vfrkg</a>"
      ],
      "text/plain": [
       "<IPython.core.display.HTML object>"
      ]
     },
     "metadata": {},
     "output_type": "display_data"
    },
    {
     "name": "stdout",
     "output_type": "stream",
     "text": [
      "Epoch 1/50, Loss: 4.8209\n",
      "Epoch 2/50, Loss: 3.5643\n",
      "Epoch 3/50, Loss: 2.6757\n",
      "Epoch 4/50, Loss: 1.9295\n",
      "Epoch 5/50, Loss: 1.3615\n",
      "Epoch 6/50, Loss: 0.9906\n",
      "Epoch 7/50, Loss: 0.6220\n",
      "Epoch 8/50, Loss: 0.4626\n",
      "Epoch 9/50, Loss: 0.3533\n",
      "Epoch 10/50, Loss: 0.2466\n",
      "Epoch 11/50, Loss: 0.1948\n",
      "Epoch 12/50, Loss: 0.1618\n",
      "Epoch 13/50, Loss: 0.1382\n",
      "Epoch 14/50, Loss: 0.1213\n",
      "Epoch 15/50, Loss: 0.0850\n",
      "Epoch 16/50, Loss: 0.0814\n",
      "Epoch 17/50, Loss: 0.0708\n",
      "Epoch 18/50, Loss: 0.0613\n",
      "Epoch 19/50, Loss: 0.0517\n",
      "Epoch 20/50, Loss: 0.0484\n",
      "Epoch 21/50, Loss: 0.0553\n",
      "Epoch 22/50, Loss: 0.0445\n",
      "Epoch 23/50, Loss: 0.0343\n",
      "Epoch 24/50, Loss: 0.0383\n",
      "Epoch 25/50, Loss: 0.0314\n",
      "Epoch 26/50, Loss: 0.0244\n",
      "Epoch 27/50, Loss: 0.0223\n",
      "Epoch 28/50, Loss: 0.0243\n",
      "Epoch 29/50, Loss: 0.0219\n",
      "Epoch 30/50, Loss: 0.0196\n",
      "Epoch 31/50, Loss: 0.0264\n",
      "Epoch 32/50, Loss: 0.0207\n",
      "Epoch 33/50, Loss: 0.0199\n",
      "Epoch 34/50, Loss: 0.0154\n",
      "Epoch 35/50, Loss: 0.0124\n",
      "Epoch 36/50, Loss: 0.0123\n",
      "Epoch 37/50, Loss: 0.0125\n",
      "Epoch 38/50, Loss: 0.0103\n",
      "Epoch 39/50, Loss: 0.0102\n",
      "Epoch 40/50, Loss: 0.0081\n",
      "Epoch 41/50, Loss: 0.0083\n",
      "Epoch 42/50, Loss: 0.0118\n",
      "Epoch 43/50, Loss: 0.0097\n",
      "Epoch 44/50, Loss: 0.0088\n",
      "Epoch 45/50, Loss: 0.0068\n",
      "Epoch 46/50, Loss: 0.0072\n",
      "Epoch 47/50, Loss: 0.0081\n",
      "Epoch 48/50, Loss: 0.0090\n",
      "Epoch 49/50, Loss: 0.0090\n",
      "Epoch 50/50, Loss: 0.0074\n"
     ]
    }
   ],
   "source": [
    "import torch\n",
    "import torch.nn as nn\n",
    "import torch.optim as optim\n",
    "from torch.utils.data import Dataset, DataLoader\n",
    "import wandb\n",
    "\n",
    "# 데이터셋 정의\n",
    "class PatternDataset(Dataset):\n",
    "    def __init__(self, num_samples=1000, sequence_length=4, max_num=10):\n",
    "        self.data = []\n",
    "        self.targets = []\n",
    "        for _ in range(num_samples):\n",
    "            start = torch.randint(0, max_num, (1,)).item()  # 시작 숫자\n",
    "            diff = torch.randint(1, 5, (1,)).item()  # 등차\n",
    "            sequence = [start + i * diff for i in range(sequence_length)]\n",
    "            next_value = sequence[-1] + diff  # 다음에 올 숫자\n",
    "            \n",
    "            # 입력 시퀀스는 정수로 이루어진 시퀀스, 타겟은 다음에 올 숫자\n",
    "            self.data.append(torch.tensor(sequence))\n",
    "            self.targets.append(next_value)\n",
    "    \n",
    "    def __len__(self):\n",
    "        return len(self.data)\n",
    "\n",
    "    def __getitem__(self, idx):\n",
    "        return self.data[idx], self.targets[idx]\n",
    "\n",
    "# 하이퍼파라미터 설정\n",
    "src_vocab_size = 100\n",
    "tgt_vocab_size = 200\n",
    "d_model = 32\n",
    "n_heads = 4\n",
    "d_ff = 64\n",
    "num_encoder_layers = 6\n",
    "num_decoder_layers = 6\n",
    "dropout = 0.1\n",
    "batch_size = 32\n",
    "num_epochs = 50\n",
    "learning_rate = 0.0001\n",
    "\n",
    "# WandB 초기화\n",
    "wandb.login(key=\"5eb9533ad325dbbcdd472fccfb7d52a4f433f036\")\n",
    "# https://wandb.ai/authorize (API Key 확인하는 웹사이트)\n",
    "wandb.init(project=\"transformer\", config={\n",
    "    \"src_vocab_size\": src_vocab_size,\n",
    "    \"tgt_vocab_size\": tgt_vocab_size,\n",
    "    \"d_model\": d_model,\n",
    "    \"n_heads\": n_heads,\n",
    "    \"d_ff\": d_ff,\n",
    "    \"num_encoder_layers\": num_encoder_layers,\n",
    "    \"num_decoder_layers\": num_decoder_layers,\n",
    "    \"dropout\": dropout,\n",
    "    \"batch_size\": batch_size,\n",
    "    \"num_epochs\": num_epochs,\n",
    "    \"learning_rate\": learning_rate,\n",
    "})\n",
    "\n",
    "# 데이터셋 및 데이터로더 생성\n",
    "dataset = PatternDataset(num_samples=1000)\n",
    "dataloader = DataLoader(dataset, batch_size=batch_size, shuffle=True)\n",
    "\n",
    "# 모델 초기화 (Transformer 모델이 별도로 정의되어 있어야 합니다)\n",
    "model = Transformer(src_vocab_size, tgt_vocab_size, d_model, n_heads, d_ff, num_encoder_layers, num_decoder_layers, dropout)\n",
    "\n",
    "# 손실 함수 및 최적화 도구 정의\n",
    "criterion = nn.CrossEntropyLoss()\n",
    "optimizer = optim.Adam(model.parameters(), lr=learning_rate)\n",
    "\n",
    "# 학습 루프\n",
    "\n",
    "def train():\n",
    "    for epoch in range(num_epochs):\n",
    "        model.train()\n",
    "        total_loss = 0\n",
    "\n",
    "        for src, tgt in dataloader:\n",
    "            # 예측 시작을 위한 빈 타겟 시퀀스 준비\n",
    "            tgt_input = torch.zeros_like(tgt).unsqueeze(1)\n",
    "            tgt = tgt.unsqueeze(1)\n",
    "            \n",
    "            optimizer.zero_grad()\n",
    "            output = model(src, tgt_input)\n",
    "            \n",
    "            # 출력 크기 조정 및 손실 계산\n",
    "            output = output.view(-1, tgt_vocab_size)\n",
    "            tgt = tgt.view(-1)\n",
    "            \n",
    "            loss = criterion(output, tgt)\n",
    "            loss.backward()\n",
    "            optimizer.step()\n",
    "\n",
    "            total_loss += loss.item()\n",
    "        \n",
    "        avg_loss = total_loss / len(dataloader)\n",
    "        print(f\"Epoch {epoch+1}/{num_epochs}, Loss: {avg_loss:.4f}\")\n",
    "        \n",
    "        # WandB에 손실값 로깅\n",
    "        wandb.log({\"epoch\": epoch+1, \"loss\": avg_loss})\n",
    "\n",
    "train()\n"
   ]
  },
  {
   "cell_type": "code",
   "execution_count": 4,
   "metadata": {},
   "outputs": [
    {
     "name": "stdout",
     "output_type": "stream",
     "text": [
      "Test Accuracy: 100.00%\n"
     ]
    }
   ],
   "source": [
    "# 테스트 데이터셋 생성 (학습 데이터와 동일한 방식으로 생성)\n",
    "test_dataset = PatternDataset(num_samples=1000)  # 테스트용 샘플 수\n",
    "test_dataloader = DataLoader(test_dataset, batch_size=batch_size, shuffle=False)\n",
    "\n",
    "def test_model(model, dataloader):\n",
    "    model.eval()  # 평가 모드로 설정\n",
    "    total_correct = 0\n",
    "    total_samples = 0\n",
    "\n",
    "    with torch.no_grad():  # 그래디언트 계산 중지 (평가 시에는 필요하지 않음)\n",
    "        for src, tgt in dataloader:\n",
    "            # 입력 시퀀스 준비\n",
    "            tgt_input = torch.zeros_like(tgt).unsqueeze(1)  # 예측 시작을 위한 빈 타겟 시퀀스\n",
    "            tgt = tgt.unsqueeze(1)  # 타겟을 2D 텐서로 변환\n",
    "            \n",
    "            # 모델에 입력 시퀀스를 전달하고 예측 값 생성\n",
    "            output = model(src, tgt_input)\n",
    "            predicted = output.argmax(dim=-1)  # 예측 결과는 argmax를 통해 얻음\n",
    "            \n",
    "            # 실제 타겟과 예측값 비교\n",
    "            correct = (predicted.view(-1) == tgt.view(-1)).sum().item()\n",
    "            total_correct += correct\n",
    "            total_samples += tgt.size(0)\n",
    "\n",
    "    # 정확도 계산\n",
    "    accuracy = total_correct / total_samples * 100\n",
    "    print(f\"Test Accuracy: {accuracy:.2f}%\")\n",
    "    \n",
    "    # WandB에 테스트 정확도 로깅\n",
    "    wandb.log({\"test_accuracy\": accuracy})\n",
    "    wandb.run.summary[\"test_accuracy\"] = accuracy\n",
    "\n",
    "# 학습된 모델 테스트\n",
    "test_model(model, test_dataloader)\n"
   ]
  },
  {
   "cell_type": "markdown",
   "metadata": {},
   "source": [
    "Wandb Sweep 사용해보기!"
   ]
  },
  {
   "cell_type": "code",
   "execution_count": 5,
   "metadata": {},
   "outputs": [
    {
     "name": "stderr",
     "output_type": "stream",
     "text": [
      "\u001b[34m\u001b[1mwandb\u001b[0m: \u001b[33mWARNING\u001b[0m Calling wandb.login() after wandb.init() has no effect.\n"
     ]
    },
    {
     "name": "stdout",
     "output_type": "stream",
     "text": [
      "Create sweep with ID: ibblcu26\n",
      "Sweep URL: https://wandb.ai/stars3621-yonsei-university/transformer/sweeps/ibblcu26\n"
     ]
    },
    {
     "name": "stderr",
     "output_type": "stream",
     "text": [
      "\u001b[34m\u001b[1mwandb\u001b[0m: Agent Starting Run: pr15u5pf with config:\n",
      "\u001b[34m\u001b[1mwandb\u001b[0m: \tbatch_size: 16\n",
      "\u001b[34m\u001b[1mwandb\u001b[0m: \td_model: 32\n",
      "\u001b[34m\u001b[1mwandb\u001b[0m: \tlearning_rate: 0.0001\n"
     ]
    },
    {
     "name": "stdout",
     "output_type": "stream",
     "text": [
      "Epoch 1/50, Loss: 0.0070\n"
     ]
    },
    {
     "name": "stderr",
     "output_type": "stream",
     "text": [
      "Exception in thread Thread-14 (_run_job):\n",
      "Traceback (most recent call last):\n",
      "  File \"c:\\Users\\user\\anaconda3\\envs\\7-1_gru\\Lib\\site-packages\\wandb\\agents\\pyagent.py\", line 306, in _run_job\n",
      "    self._function()\n",
      "  File \"C:\\Users\\user\\AppData\\Local\\Temp\\ipykernel_36972\\2195693330.py\", line 98, in train\n",
      "  File \"c:\\Users\\user\\anaconda3\\envs\\7-1_gru\\Lib\\site-packages\\wandb\\sdk\\wandb_run.py\", line 449, in wrapper\n",
      "    return func(self, *args, **kwargs)\n",
      "           ^^^^^^^^^^^^^^^^^^^^^^^^^^^\n",
      "  File \"c:\\Users\\user\\anaconda3\\envs\\7-1_gru\\Lib\\site-packages\\wandb\\sdk\\wandb_run.py\", line 401, in wrapper_fn\n",
      "    return func(self, *args, **kwargs)\n",
      "           ^^^^^^^^^^^^^^^^^^^^^^^^^^^\n",
      "  File \"c:\\Users\\user\\anaconda3\\envs\\7-1_gru\\Lib\\site-packages\\wandb\\sdk\\wandb_run.py\", line 391, in wrapper\n",
      "    return func(self, *args, **kwargs)\n",
      "           ^^^^^^^^^^^^^^^^^^^^^^^^^^^\n",
      "  File \"c:\\Users\\user\\anaconda3\\envs\\7-1_gru\\Lib\\site-packages\\wandb\\sdk\\wandb_run.py\", line 1873, in log\n",
      "    self._log(data=data, step=step, commit=commit)\n",
      "  File \"c:\\Users\\user\\anaconda3\\envs\\7-1_gru\\Lib\\site-packages\\wandb\\sdk\\wandb_run.py\", line 1587, in _log\n",
      "    self._partial_history_callback(data, step, commit)\n",
      "  File \"c:\\Users\\user\\anaconda3\\envs\\7-1_gru\\Lib\\site-packages\\wandb\\sdk\\wandb_run.py\", line 1417, in _partial_history_callback\n",
      "    self._backend.interface.publish_partial_history(\n",
      "  File \"c:\\Users\\user\\anaconda3\\envs\\7-1_gru\\Lib\\site-packages\\wandb\\sdk\\interface\\interface.py\", line 690, in publish_partial_history\n",
      "    self._publish_partial_history(partial_history)\n",
      "  File \"c:\\Users\\user\\anaconda3\\envs\\7-1_gru\\Lib\\site-packages\\wandb\\sdk\\interface\\interface_shared.py\", line 48, in _publish_partial_history\n",
      "    self._publish(rec)\n",
      "  File \"c:\\Users\\user\\anaconda3\\envs\\7-1_gru\\Lib\\site-packages\\wandb\\sdk\\interface\\interface_sock.py\", line 39, in _publish\n",
      "    self._sock_client.send_record_publish(record)\n",
      "  File \"c:\\Users\\user\\anaconda3\\envs\\7-1_gru\\Lib\\site-packages\\wandb\\sdk\\lib\\sock_client.py\", line 174, in send_record_publish\n",
      "    self.send_server_request(server_req)\n",
      "  File \"c:\\Users\\user\\anaconda3\\envs\\7-1_gru\\Lib\\site-packages\\wandb\\sdk\\lib\\sock_client.py\", line 154, in send_server_request\n",
      "    self._send_message(msg)\n",
      "  File \"c:\\Users\\user\\anaconda3\\envs\\7-1_gru\\Lib\\site-packages\\wandb\\sdk\\lib\\sock_client.py\", line 151, in _send_message\n",
      "    self._sendall_with_error_handle(header + data)\n",
      "  File \"c:\\Users\\user\\anaconda3\\envs\\7-1_gru\\Lib\\site-packages\\wandb\\sdk\\lib\\sock_client.py\", line 130, in _sendall_with_error_handle\n",
      "    sent = self._sock.send(data)\n",
      "           ^^^^^^^^^^^^^^^^^^^^^\n",
      "ConnectionAbortedError: [WinError 10053] 현재 연결은 사용자의 호스트 시스템의 소프트웨어의 의해 중단되었습니다\n",
      "\n",
      "During handling of the above exception, another exception occurred:\n",
      "\n",
      "Traceback (most recent call last):\n",
      "  File \"c:\\Users\\user\\anaconda3\\envs\\7-1_gru\\Lib\\threading.py\", line 1075, in _bootstrap_inner\n",
      "    self.run()\n",
      "  File \"C:\\Users\\user\\AppData\\Roaming\\Python\\Python312\\site-packages\\ipykernel\\ipkernel.py\", line 766, in run_closure\n",
      "    _threading_Thread_run(self)\n",
      "  File \"c:\\Users\\user\\anaconda3\\envs\\7-1_gru\\Lib\\threading.py\", line 1012, in run\n",
      "    self._target(*self._args, **self._kwargs)\n",
      "  File \"c:\\Users\\user\\anaconda3\\envs\\7-1_gru\\Lib\\site-packages\\wandb\\agents\\pyagent.py\", line 311, in _run_job\n",
      "    wandb.finish(exit_code=1)\n",
      "  File \"c:\\Users\\user\\anaconda3\\envs\\7-1_gru\\Lib\\site-packages\\wandb\\sdk\\wandb_run.py\", line 4130, in finish\n",
      "    wandb.run.finish(exit_code=exit_code, quiet=quiet)\n",
      "  File \"c:\\Users\\user\\anaconda3\\envs\\7-1_gru\\Lib\\site-packages\\wandb\\sdk\\wandb_run.py\", line 449, in wrapper\n",
      "    return func(self, *args, **kwargs)\n",
      "           ^^^^^^^^^^^^^^^^^^^^^^^^^^^\n",
      "  File \"c:\\Users\\user\\anaconda3\\envs\\7-1_gru\\Lib\\site-packages\\wandb\\sdk\\wandb_run.py\", line 391, in wrapper\n",
      "    return func(self, *args, **kwargs)\n",
      "           ^^^^^^^^^^^^^^^^^^^^^^^^^^^\n",
      "  File \"c:\\Users\\user\\anaconda3\\envs\\7-1_gru\\Lib\\site-packages\\wandb\\sdk\\wandb_run.py\", line 2106, in finish\n",
      "    return self._finish(exit_code)\n",
      "           ^^^^^^^^^^^^^^^^^^^^^^^\n",
      "  File \"c:\\Users\\user\\anaconda3\\envs\\7-1_gru\\Lib\\site-packages\\wandb\\sdk\\wandb_run.py\", line 2113, in _finish\n",
      "    with telemetry.context(run=self) as tel:\n",
      "         ^^^^^^^^^^^^^^^^^^^^^^^^^^^\n",
      "  File \"c:\\Users\\user\\anaconda3\\envs\\7-1_gru\\Lib\\site-packages\\wandb\\sdk\\lib\\telemetry.py\", line 42, in __exit__\n",
      "    self._run._telemetry_callback(self._obj)\n",
      "  File \"c:\\Users\\user\\anaconda3\\envs\\7-1_gru\\Lib\\site-packages\\wandb\\sdk\\wandb_run.py\", line 749, in _telemetry_callback\n",
      "    self._telemetry_flush()\n",
      "  File \"c:\\Users\\user\\anaconda3\\envs\\7-1_gru\\Lib\\site-packages\\wandb\\sdk\\wandb_run.py\", line 762, in _telemetry_flush\n",
      "    self._backend.interface._publish_telemetry(self._telemetry_obj)\n",
      "  File \"c:\\Users\\user\\anaconda3\\envs\\7-1_gru\\Lib\\site-packages\\wandb\\sdk\\interface\\interface_shared.py\", line 60, in _publish_telemetry\n",
      "    self._publish(rec)\n",
      "  File \"c:\\Users\\user\\anaconda3\\envs\\7-1_gru\\Lib\\site-packages\\wandb\\sdk\\interface\\interface_sock.py\", line 39, in _publish\n",
      "    self._sock_client.send_record_publish(record)\n",
      "  File \"c:\\Users\\user\\anaconda3\\envs\\7-1_gru\\Lib\\site-packages\\wandb\\sdk\\lib\\sock_client.py\", line 174, in send_record_publish\n",
      "    self.send_server_request(server_req)\n",
      "  File \"c:\\Users\\user\\anaconda3\\envs\\7-1_gru\\Lib\\site-packages\\wandb\\sdk\\lib\\sock_client.py\", line 154, in send_server_request\n",
      "    self._send_message(msg)\n",
      "  File \"c:\\Users\\user\\anaconda3\\envs\\7-1_gru\\Lib\\site-packages\\wandb\\sdk\\lib\\sock_client.py\", line 151, in _send_message\n",
      "    self._sendall_with_error_handle(header + data)\n",
      "  File \"c:\\Users\\user\\anaconda3\\envs\\7-1_gru\\Lib\\site-packages\\wandb\\sdk\\lib\\sock_client.py\", line 130, in _sendall_with_error_handle\n",
      "    sent = self._sock.send(data)\n",
      "           ^^^^^^^^^^^^^^^^^^^^^\n",
      "ConnectionAbortedError: [WinError 10053] 현재 연결은 사용자의 호스트 시스템의 소프트웨어의 의해 중단되었습니다\n",
      "\u001b[34m\u001b[1mwandb\u001b[0m: Agent Starting Run: 82gxg2gs with config:\n",
      "\u001b[34m\u001b[1mwandb\u001b[0m: \tbatch_size: 16\n",
      "\u001b[34m\u001b[1mwandb\u001b[0m: \td_model: 32\n",
      "\u001b[34m\u001b[1mwandb\u001b[0m: \tlearning_rate: 0.0005\n"
     ]
    },
    {
     "name": "stdout",
     "output_type": "stream",
     "text": [
      "Epoch 1/50, Loss: 0.0097\n"
     ]
    },
    {
     "name": "stderr",
     "output_type": "stream",
     "text": [
      "Exception in thread Thread-15 (_run_job):\n",
      "Traceback (most recent call last):\n",
      "  File \"c:\\Users\\user\\anaconda3\\envs\\7-1_gru\\Lib\\site-packages\\wandb\\agents\\pyagent.py\", line 306, in _run_job\n",
      "    self._function()\n",
      "  File \"C:\\Users\\user\\AppData\\Local\\Temp\\ipykernel_36972\\2195693330.py\", line 98, in train\n",
      "  File \"c:\\Users\\user\\anaconda3\\envs\\7-1_gru\\Lib\\site-packages\\wandb\\sdk\\wandb_run.py\", line 449, in wrapper\n",
      "    return func(self, *args, **kwargs)\n",
      "           ^^^^^^^^^^^^^^^^^^^^^^^^^^^\n",
      "  File \"c:\\Users\\user\\anaconda3\\envs\\7-1_gru\\Lib\\site-packages\\wandb\\sdk\\wandb_run.py\", line 401, in wrapper_fn\n",
      "    return func(self, *args, **kwargs)\n",
      "           ^^^^^^^^^^^^^^^^^^^^^^^^^^^\n",
      "  File \"c:\\Users\\user\\anaconda3\\envs\\7-1_gru\\Lib\\site-packages\\wandb\\sdk\\wandb_run.py\", line 391, in wrapper\n",
      "    return func(self, *args, **kwargs)\n",
      "           ^^^^^^^^^^^^^^^^^^^^^^^^^^^\n",
      "  File \"c:\\Users\\user\\anaconda3\\envs\\7-1_gru\\Lib\\site-packages\\wandb\\sdk\\wandb_run.py\", line 1873, in log\n",
      "    self._log(data=data, step=step, commit=commit)\n",
      "  File \"c:\\Users\\user\\anaconda3\\envs\\7-1_gru\\Lib\\site-packages\\wandb\\sdk\\wandb_run.py\", line 1587, in _log\n",
      "    self._partial_history_callback(data, step, commit)\n",
      "  File \"c:\\Users\\user\\anaconda3\\envs\\7-1_gru\\Lib\\site-packages\\wandb\\sdk\\wandb_run.py\", line 1417, in _partial_history_callback\n",
      "    self._backend.interface.publish_partial_history(\n",
      "  File \"c:\\Users\\user\\anaconda3\\envs\\7-1_gru\\Lib\\site-packages\\wandb\\sdk\\interface\\interface.py\", line 690, in publish_partial_history\n",
      "    self._publish_partial_history(partial_history)\n",
      "  File \"c:\\Users\\user\\anaconda3\\envs\\7-1_gru\\Lib\\site-packages\\wandb\\sdk\\interface\\interface_shared.py\", line 48, in _publish_partial_history\n",
      "    self._publish(rec)\n",
      "  File \"c:\\Users\\user\\anaconda3\\envs\\7-1_gru\\Lib\\site-packages\\wandb\\sdk\\interface\\interface_sock.py\", line 39, in _publish\n",
      "    self._sock_client.send_record_publish(record)\n",
      "  File \"c:\\Users\\user\\anaconda3\\envs\\7-1_gru\\Lib\\site-packages\\wandb\\sdk\\lib\\sock_client.py\", line 174, in send_record_publish\n",
      "    self.send_server_request(server_req)\n",
      "  File \"c:\\Users\\user\\anaconda3\\envs\\7-1_gru\\Lib\\site-packages\\wandb\\sdk\\lib\\sock_client.py\", line 154, in send_server_request\n",
      "    self._send_message(msg)\n",
      "  File \"c:\\Users\\user\\anaconda3\\envs\\7-1_gru\\Lib\\site-packages\\wandb\\sdk\\lib\\sock_client.py\", line 151, in _send_message\n",
      "    self._sendall_with_error_handle(header + data)\n",
      "  File \"c:\\Users\\user\\anaconda3\\envs\\7-1_gru\\Lib\\site-packages\\wandb\\sdk\\lib\\sock_client.py\", line 130, in _sendall_with_error_handle\n",
      "    sent = self._sock.send(data)\n",
      "           ^^^^^^^^^^^^^^^^^^^^^\n",
      "ConnectionAbortedError: [WinError 10053] 현재 연결은 사용자의 호스트 시스템의 소프트웨어의 의해 중단되었습니다\n",
      "\n",
      "During handling of the above exception, another exception occurred:\n",
      "\n",
      "Traceback (most recent call last):\n",
      "  File \"c:\\Users\\user\\anaconda3\\envs\\7-1_gru\\Lib\\threading.py\", line 1075, in _bootstrap_inner\n",
      "    self.run()\n",
      "  File \"C:\\Users\\user\\AppData\\Roaming\\Python\\Python312\\site-packages\\ipykernel\\ipkernel.py\", line 766, in run_closure\n",
      "    _threading_Thread_run(self)\n",
      "  File \"c:\\Users\\user\\anaconda3\\envs\\7-1_gru\\Lib\\threading.py\", line 1012, in run\n",
      "    self._target(*self._args, **self._kwargs)\n",
      "  File \"c:\\Users\\user\\anaconda3\\envs\\7-1_gru\\Lib\\site-packages\\wandb\\agents\\pyagent.py\", line 311, in _run_job\n",
      "    wandb.finish(exit_code=1)\n",
      "  File \"c:\\Users\\user\\anaconda3\\envs\\7-1_gru\\Lib\\site-packages\\wandb\\sdk\\wandb_run.py\", line 4130, in finish\n",
      "    wandb.run.finish(exit_code=exit_code, quiet=quiet)\n",
      "  File \"c:\\Users\\user\\anaconda3\\envs\\7-1_gru\\Lib\\site-packages\\wandb\\sdk\\wandb_run.py\", line 449, in wrapper\n",
      "    return func(self, *args, **kwargs)\n",
      "           ^^^^^^^^^^^^^^^^^^^^^^^^^^^\n",
      "  File \"c:\\Users\\user\\anaconda3\\envs\\7-1_gru\\Lib\\site-packages\\wandb\\sdk\\wandb_run.py\", line 391, in wrapper\n",
      "    return func(self, *args, **kwargs)\n",
      "           ^^^^^^^^^^^^^^^^^^^^^^^^^^^\n",
      "  File \"c:\\Users\\user\\anaconda3\\envs\\7-1_gru\\Lib\\site-packages\\wandb\\sdk\\wandb_run.py\", line 2106, in finish\n",
      "    return self._finish(exit_code)\n",
      "           ^^^^^^^^^^^^^^^^^^^^^^^\n",
      "  File \"c:\\Users\\user\\anaconda3\\envs\\7-1_gru\\Lib\\site-packages\\wandb\\sdk\\wandb_run.py\", line 2113, in _finish\n",
      "    with telemetry.context(run=self) as tel:\n",
      "         ^^^^^^^^^^^^^^^^^^^^^^^^^^^\n",
      "  File \"c:\\Users\\user\\anaconda3\\envs\\7-1_gru\\Lib\\site-packages\\wandb\\sdk\\lib\\telemetry.py\", line 42, in __exit__\n",
      "    self._run._telemetry_callback(self._obj)\n",
      "  File \"c:\\Users\\user\\anaconda3\\envs\\7-1_gru\\Lib\\site-packages\\wandb\\sdk\\wandb_run.py\", line 749, in _telemetry_callback\n",
      "    self._telemetry_flush()\n",
      "  File \"c:\\Users\\user\\anaconda3\\envs\\7-1_gru\\Lib\\site-packages\\wandb\\sdk\\wandb_run.py\", line 762, in _telemetry_flush\n",
      "    self._backend.interface._publish_telemetry(self._telemetry_obj)\n",
      "  File \"c:\\Users\\user\\anaconda3\\envs\\7-1_gru\\Lib\\site-packages\\wandb\\sdk\\interface\\interface_shared.py\", line 60, in _publish_telemetry\n",
      "    self._publish(rec)\n",
      "  File \"c:\\Users\\user\\anaconda3\\envs\\7-1_gru\\Lib\\site-packages\\wandb\\sdk\\interface\\interface_sock.py\", line 39, in _publish\n",
      "    self._sock_client.send_record_publish(record)\n",
      "  File \"c:\\Users\\user\\anaconda3\\envs\\7-1_gru\\Lib\\site-packages\\wandb\\sdk\\lib\\sock_client.py\", line 174, in send_record_publish\n",
      "    self.send_server_request(server_req)\n",
      "  File \"c:\\Users\\user\\anaconda3\\envs\\7-1_gru\\Lib\\site-packages\\wandb\\sdk\\lib\\sock_client.py\", line 154, in send_server_request\n",
      "    self._send_message(msg)\n",
      "  File \"c:\\Users\\user\\anaconda3\\envs\\7-1_gru\\Lib\\site-packages\\wandb\\sdk\\lib\\sock_client.py\", line 151, in _send_message\n",
      "    self._sendall_with_error_handle(header + data)\n",
      "  File \"c:\\Users\\user\\anaconda3\\envs\\7-1_gru\\Lib\\site-packages\\wandb\\sdk\\lib\\sock_client.py\", line 130, in _sendall_with_error_handle\n",
      "    sent = self._sock.send(data)\n",
      "           ^^^^^^^^^^^^^^^^^^^^^\n",
      "ConnectionAbortedError: [WinError 10053] 현재 연결은 사용자의 호스트 시스템의 소프트웨어의 의해 중단되었습니다\n",
      "\u001b[34m\u001b[1mwandb\u001b[0m: Ctrl + C detected. Stopping sweep.\n"
     ]
    },
    {
     "name": "stdout",
     "output_type": "stream",
     "text": [
      "Error in callback <bound method _WandbInit._pause_backend of <wandb.sdk.wandb_init._WandbInit object at 0x0000027F1E67BF20>> (for post_run_cell):\n"
     ]
    },
    {
     "ename": "ConnectionAbortedError",
     "evalue": "[WinError 10053] 현재 연결은 사용자의 호스트 시스템의 소프트웨어의 의해 중단되었습니다",
     "output_type": "error",
     "traceback": [
      "\u001b[1;31m---------------------------------------------------------------------------\u001b[0m",
      "\u001b[1;31mConnectionAbortedError\u001b[0m                    Traceback (most recent call last)",
      "File \u001b[1;32mc:\\Users\\user\\anaconda3\\envs\\7-1_gru\\Lib\\site-packages\\wandb\\sdk\\wandb_init.py:565\u001b[0m, in \u001b[0;36m_WandbInit._pause_backend\u001b[1;34m(self, *args, **kwargs)\u001b[0m\n\u001b[0;32m    563\u001b[0m \u001b[38;5;28;01mif\u001b[39;00m \u001b[38;5;28mself\u001b[39m\u001b[38;5;241m.\u001b[39mbackend\u001b[38;5;241m.\u001b[39minterface \u001b[38;5;129;01mis\u001b[39;00m \u001b[38;5;129;01mnot\u001b[39;00m \u001b[38;5;28;01mNone\u001b[39;00m:\n\u001b[0;32m    564\u001b[0m     \u001b[38;5;28mself\u001b[39m\u001b[38;5;241m.\u001b[39m_logger\u001b[38;5;241m.\u001b[39minfo(\u001b[38;5;124m\"\u001b[39m\u001b[38;5;124mpausing backend\u001b[39m\u001b[38;5;124m\"\u001b[39m)  \u001b[38;5;66;03m# type: ignore\u001b[39;00m\n\u001b[1;32m--> 565\u001b[0m     \u001b[38;5;28;43mself\u001b[39;49m\u001b[38;5;241;43m.\u001b[39;49m\u001b[43mbackend\u001b[49m\u001b[38;5;241;43m.\u001b[39;49m\u001b[43minterface\u001b[49m\u001b[38;5;241;43m.\u001b[39;49m\u001b[43mpublish_pause\u001b[49m\u001b[43m(\u001b[49m\u001b[43m)\u001b[49m\n",
      "File \u001b[1;32mc:\\Users\\user\\anaconda3\\envs\\7-1_gru\\Lib\\site-packages\\wandb\\sdk\\interface\\interface.py:769\u001b[0m, in \u001b[0;36mInterfaceBase.publish_pause\u001b[1;34m(self)\u001b[0m\n\u001b[0;32m    767\u001b[0m \u001b[38;5;28;01mdef\u001b[39;00m \u001b[38;5;21mpublish_pause\u001b[39m(\u001b[38;5;28mself\u001b[39m) \u001b[38;5;241m-\u001b[39m\u001b[38;5;241m>\u001b[39m \u001b[38;5;28;01mNone\u001b[39;00m:\n\u001b[0;32m    768\u001b[0m     pause \u001b[38;5;241m=\u001b[39m pb\u001b[38;5;241m.\u001b[39mPauseRequest()\n\u001b[1;32m--> 769\u001b[0m     \u001b[38;5;28;43mself\u001b[39;49m\u001b[38;5;241;43m.\u001b[39;49m\u001b[43m_publish_pause\u001b[49m\u001b[43m(\u001b[49m\u001b[43mpause\u001b[49m\u001b[43m)\u001b[49m\n",
      "File \u001b[1;32mc:\\Users\\user\\anaconda3\\envs\\7-1_gru\\Lib\\site-packages\\wandb\\sdk\\interface\\interface_shared.py:289\u001b[0m, in \u001b[0;36mInterfaceShared._publish_pause\u001b[1;34m(self, pause)\u001b[0m\n\u001b[0;32m    287\u001b[0m \u001b[38;5;28;01mdef\u001b[39;00m \u001b[38;5;21m_publish_pause\u001b[39m(\u001b[38;5;28mself\u001b[39m, pause: pb\u001b[38;5;241m.\u001b[39mPauseRequest) \u001b[38;5;241m-\u001b[39m\u001b[38;5;241m>\u001b[39m \u001b[38;5;28;01mNone\u001b[39;00m:\n\u001b[0;32m    288\u001b[0m     rec \u001b[38;5;241m=\u001b[39m \u001b[38;5;28mself\u001b[39m\u001b[38;5;241m.\u001b[39m_make_request(pause\u001b[38;5;241m=\u001b[39mpause)\n\u001b[1;32m--> 289\u001b[0m     \u001b[38;5;28;43mself\u001b[39;49m\u001b[38;5;241;43m.\u001b[39;49m\u001b[43m_publish\u001b[49m\u001b[43m(\u001b[49m\u001b[43mrec\u001b[49m\u001b[43m)\u001b[49m\n",
      "File \u001b[1;32mc:\\Users\\user\\anaconda3\\envs\\7-1_gru\\Lib\\site-packages\\wandb\\sdk\\interface\\interface_sock.py:39\u001b[0m, in \u001b[0;36mInterfaceSock._publish\u001b[1;34m(self, record, local)\u001b[0m\n\u001b[0;32m     37\u001b[0m \u001b[38;5;28;01mdef\u001b[39;00m \u001b[38;5;21m_publish\u001b[39m(\u001b[38;5;28mself\u001b[39m, record: \u001b[38;5;124m\"\u001b[39m\u001b[38;5;124mpb.Record\u001b[39m\u001b[38;5;124m\"\u001b[39m, local: Optional[\u001b[38;5;28mbool\u001b[39m] \u001b[38;5;241m=\u001b[39m \u001b[38;5;28;01mNone\u001b[39;00m) \u001b[38;5;241m-\u001b[39m\u001b[38;5;241m>\u001b[39m \u001b[38;5;28;01mNone\u001b[39;00m:\n\u001b[0;32m     38\u001b[0m     \u001b[38;5;28mself\u001b[39m\u001b[38;5;241m.\u001b[39m_assign(record)\n\u001b[1;32m---> 39\u001b[0m     \u001b[38;5;28;43mself\u001b[39;49m\u001b[38;5;241;43m.\u001b[39;49m\u001b[43m_sock_client\u001b[49m\u001b[38;5;241;43m.\u001b[39;49m\u001b[43msend_record_publish\u001b[49m\u001b[43m(\u001b[49m\u001b[43mrecord\u001b[49m\u001b[43m)\u001b[49m\n",
      "File \u001b[1;32mc:\\Users\\user\\anaconda3\\envs\\7-1_gru\\Lib\\site-packages\\wandb\\sdk\\lib\\sock_client.py:174\u001b[0m, in \u001b[0;36mSockClient.send_record_publish\u001b[1;34m(self, record)\u001b[0m\n\u001b[0;32m    172\u001b[0m server_req\u001b[38;5;241m.\u001b[39mrequest_id \u001b[38;5;241m=\u001b[39m record\u001b[38;5;241m.\u001b[39mcontrol\u001b[38;5;241m.\u001b[39mmailbox_slot\n\u001b[0;32m    173\u001b[0m server_req\u001b[38;5;241m.\u001b[39mrecord_publish\u001b[38;5;241m.\u001b[39mCopyFrom(record)\n\u001b[1;32m--> 174\u001b[0m \u001b[38;5;28;43mself\u001b[39;49m\u001b[38;5;241;43m.\u001b[39;49m\u001b[43msend_server_request\u001b[49m\u001b[43m(\u001b[49m\u001b[43mserver_req\u001b[49m\u001b[43m)\u001b[49m\n",
      "File \u001b[1;32mc:\\Users\\user\\anaconda3\\envs\\7-1_gru\\Lib\\site-packages\\wandb\\sdk\\lib\\sock_client.py:154\u001b[0m, in \u001b[0;36mSockClient.send_server_request\u001b[1;34m(self, msg)\u001b[0m\n\u001b[0;32m    153\u001b[0m \u001b[38;5;28;01mdef\u001b[39;00m \u001b[38;5;21msend_server_request\u001b[39m(\u001b[38;5;28mself\u001b[39m, msg: spb\u001b[38;5;241m.\u001b[39mServerRequest) \u001b[38;5;241m-\u001b[39m\u001b[38;5;241m>\u001b[39m \u001b[38;5;28;01mNone\u001b[39;00m:\n\u001b[1;32m--> 154\u001b[0m     \u001b[38;5;28;43mself\u001b[39;49m\u001b[38;5;241;43m.\u001b[39;49m\u001b[43m_send_message\u001b[49m\u001b[43m(\u001b[49m\u001b[43mmsg\u001b[49m\u001b[43m)\u001b[49m\n",
      "File \u001b[1;32mc:\\Users\\user\\anaconda3\\envs\\7-1_gru\\Lib\\site-packages\\wandb\\sdk\\lib\\sock_client.py:151\u001b[0m, in \u001b[0;36mSockClient._send_message\u001b[1;34m(self, msg)\u001b[0m\n\u001b[0;32m    149\u001b[0m header \u001b[38;5;241m=\u001b[39m struct\u001b[38;5;241m.\u001b[39mpack(\u001b[38;5;124m\"\u001b[39m\u001b[38;5;124m<BI\u001b[39m\u001b[38;5;124m\"\u001b[39m, \u001b[38;5;28mord\u001b[39m(\u001b[38;5;124m\"\u001b[39m\u001b[38;5;124mW\u001b[39m\u001b[38;5;124m\"\u001b[39m), raw_size)\n\u001b[0;32m    150\u001b[0m \u001b[38;5;28;01mwith\u001b[39;00m \u001b[38;5;28mself\u001b[39m\u001b[38;5;241m.\u001b[39m_lock:\n\u001b[1;32m--> 151\u001b[0m     \u001b[38;5;28;43mself\u001b[39;49m\u001b[38;5;241;43m.\u001b[39;49m\u001b[43m_sendall_with_error_handle\u001b[49m\u001b[43m(\u001b[49m\u001b[43mheader\u001b[49m\u001b[43m \u001b[49m\u001b[38;5;241;43m+\u001b[39;49m\u001b[43m \u001b[49m\u001b[43mdata\u001b[49m\u001b[43m)\u001b[49m\n",
      "File \u001b[1;32mc:\\Users\\user\\anaconda3\\envs\\7-1_gru\\Lib\\site-packages\\wandb\\sdk\\lib\\sock_client.py:130\u001b[0m, in \u001b[0;36mSockClient._sendall_with_error_handle\u001b[1;34m(self, data)\u001b[0m\n\u001b[0;32m    128\u001b[0m start_time \u001b[38;5;241m=\u001b[39m time\u001b[38;5;241m.\u001b[39mmonotonic()\n\u001b[0;32m    129\u001b[0m \u001b[38;5;28;01mtry\u001b[39;00m:\n\u001b[1;32m--> 130\u001b[0m     sent \u001b[38;5;241m=\u001b[39m \u001b[38;5;28;43mself\u001b[39;49m\u001b[38;5;241;43m.\u001b[39;49m\u001b[43m_sock\u001b[49m\u001b[38;5;241;43m.\u001b[39;49m\u001b[43msend\u001b[49m\u001b[43m(\u001b[49m\u001b[43mdata\u001b[49m\u001b[43m)\u001b[49m\n\u001b[0;32m    131\u001b[0m     \u001b[38;5;66;03m# sent equal to 0 indicates a closed socket\u001b[39;00m\n\u001b[0;32m    132\u001b[0m     \u001b[38;5;28;01mif\u001b[39;00m sent \u001b[38;5;241m==\u001b[39m \u001b[38;5;241m0\u001b[39m:\n",
      "\u001b[1;31mConnectionAbortedError\u001b[0m: [WinError 10053] 현재 연결은 사용자의 호스트 시스템의 소프트웨어의 의해 중단되었습니다"
     ]
    }
   ],
   "source": [
    "sweep_config = {\n",
    "    \"method\": \"grid\",  # \"random\", \"bayes\", \"grid\" 등 사용 가능\n",
    "    \"metric\": {\n",
    "        \"name\": \"loss\",\n",
    "        \"goal\": \"minimize\"\n",
    "    },\n",
    "    \"parameters\": {\n",
    "        \"learning_rate\": {\n",
    "            \"values\": [0.0001, 0.0005, 0.001]\n",
    "        },\n",
    "        \"batch_size\": {\n",
    "            \"values\": [16, 32, 64]\n",
    "        },\n",
    "        \"d_model\": {\n",
    "            \"values\": [32, 64]\n",
    "        }\n",
    "    }\n",
    "}\n",
    "\n",
    "# Sweep 등록 (프로젝트 이름은 wandb.init에서 사용한 것과 동일해야 함)\n",
    "sweep_id = wandb.sweep(sweep_config, project=\"transformer\")\n",
    "# 지정한 횟수만큼 에이전트를 실행 (count를 조절하여 실험 횟수를 늘릴 수 있습니다)\n",
    "wandb.agent(sweep_id, function=train, count=10)"
   ]
  }
 ],
 "metadata": {
  "kernelspec": {
   "display_name": "7-1_gru",
   "language": "python",
   "name": "python3"
  },
  "language_info": {
   "codemirror_mode": {
    "name": "ipython",
    "version": 3
   },
   "file_extension": ".py",
   "mimetype": "text/x-python",
   "name": "python",
   "nbconvert_exporter": "python",
   "pygments_lexer": "ipython3",
   "version": "3.12.8"
  }
 },
 "nbformat": 4,
 "nbformat_minor": 2
}
